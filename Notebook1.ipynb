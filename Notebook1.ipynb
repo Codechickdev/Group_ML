{
  "nbformat": 4,
  "nbformat_minor": 0,
  "metadata": {
    "colab": {
      "name": "Notebook1.ipynb",
      "provenance": [],
      "collapsed_sections": [],
      "authorship_tag": "ABX9TyNF8+fTv+6P1kuAwayjYc7J",
      "include_colab_link": true
    },
    "kernelspec": {
      "name": "python3",
      "display_name": "Python 3"
    },
    "language_info": {
      "name": "python"
    }
  },
  "cells": [
    {
      "cell_type": "markdown",
      "metadata": {
        "id": "view-in-github",
        "colab_type": "text"
      },
      "source": [
        "<a href=\"https://colab.research.google.com/github/Codechickdev/Group_ML/blob/main/Notebook1.ipynb\" target=\"_parent\"><img src=\"https://colab.research.google.com/assets/colab-badge.svg\" alt=\"Open In Colab\"/></a>"
      ]
    },
    {
      "cell_type": "markdown",
      "source": [
        "# NOTEBOOK - 1 LINEAR REGRESSION\n",
        "\n",
        "### This Notebook belongs to the [Group ML](https://github.com/Codechickdev/Group_ML), Where I practice various `Machine Learning algorithms`. \n",
        "\n",
        "I will try to explain each and every step in this notebook. If you want more content Check My GitHub Repo 👆"
      ],
      "metadata": {
        "id": "I4iRlH2zjKss"
      }
    },
    {
      "cell_type": "code",
      "execution_count": null,
      "metadata": {
        "id": "Kn9P2IFXiT2v"
      },
      "outputs": [],
      "source": [
        "print(\"Hello World\")"
      ]
    }
  ]
}