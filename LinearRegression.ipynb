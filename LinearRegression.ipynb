{
  "nbformat": 4,
  "nbformat_minor": 0,
  "metadata": {
    "colab": {
      "name": "LinearRegression.ipynb",
      "provenance": [],
      "authorship_tag": "ABX9TyPAJkjfCR1iGas6HwLmP+5d",
      "include_colab_link": true
    },
    "kernelspec": {
      "name": "python3",
      "display_name": "Python 3"
    },
    "language_info": {
      "name": "python"
    }
  },
  "cells": [
    {
      "cell_type": "markdown",
      "metadata": {
        "id": "view-in-github",
        "colab_type": "text"
      },
      "source": [
        "<a href=\"https://colab.research.google.com/github/Codechickdev/Group_ML/blob/main/LinearRegression.ipynb\" target=\"_parent\"><img src=\"https://colab.research.google.com/assets/colab-badge.svg\" alt=\"Open In Colab\"/></a>"
      ]
    },
    {
      "cell_type": "markdown",
      "source": [
        "# Linear Regression\n",
        "\n",
        "This Notebook belongs to [Group ML](https://github.com/Codechickdev/Group_ML) Repo, where my practicing notebooks are uploaded.\n",
        "\n",
        "I will try explain each and every step one-by-one\n",
        "\n",
        "## ToDo\n",
        "\n",
        "- [ ] Prepare Notebook\n",
        "    - [ ] Install Packages\n",
        "    - [ ] Import Packages\n",
        "    - [ ] Download Dataset\n",
        "    - [ ] Load Dataset\n",
        "- [ ] Exploratory Data Analysis\n",
        "- [ ] Data Preprocessing\n",
        "    - [ ] Splitting Dataset\n",
        "    - [ ] Imputing Null Values\n",
        "    - [ ] Scaling Numerical Values\n",
        "    - [ ] Encoding Categorical Features\n",
        "- [ ] Training Model\n",
        "- [ ] Validation\n",
        "- [ ] Hypertuning\n",
        "- [ ] Evaluation\n",
        "- [ ] Conclusion\n"
      ],
      "metadata": {
        "id": "ZcAI9EoQ-SNI"
      }
    },
    {
      "cell_type": "code",
      "execution_count": null,
      "metadata": {
        "id": "ScBHGPu5-M8F"
      },
      "outputs": [],
      "source": [
        ""
      ]
    }
  ]
}