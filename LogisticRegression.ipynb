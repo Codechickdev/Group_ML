{
  "nbformat": 4,
  "nbformat_minor": 0,
  "metadata": {
    "colab": {
      "name": "LogisticRegression.ipynb",
      "provenance": [],
      "authorship_tag": "ABX9TyM2sB8M96iE9XMnO/OrV2Zc",
      "include_colab_link": true
    },
    "kernelspec": {
      "name": "python3",
      "display_name": "Python 3"
    },
    "language_info": {
      "name": "python"
    }
  },
  "cells": [
    {
      "cell_type": "markdown",
      "metadata": {
        "id": "view-in-github",
        "colab_type": "text"
      },
      "source": [
        "<a href=\"https://colab.research.google.com/github/Codechickdev/Group_ML/blob/main/LogisticRegression.ipynb\" target=\"_parent\"><img src=\"https://colab.research.google.com/assets/colab-badge.svg\" alt=\"Open In Colab\"/></a>"
      ]
    },
    {
      "cell_type": "markdown",
      "source": [
        "# Linear Regression\n",
        "\n",
        "This Notebook belongs to [Group ML](https://github.com/Codechickdev/Group_ML) Repo, where my practicing notebooks are uploaded.\n",
        "\n",
        "\n",
        "## ToDo\n",
        "\n",
        "- [ ] Prepare Notebook\n",
        "    - [ ] Install Packages\n",
        "    - [ ] Import Packages\n",
        "    - [ ] Download Dataset\n",
        "    - [ ] Load Dataset\n",
        "- [ ] Exploratory Data Analysis\n",
        "- [ ] Data Preprocessing\n",
        "    - [ ] Splitting Dataset\n",
        "    - [ ] Imputing Null Values ( Not Required )\n",
        "    - [ ] Scaling Numerical Values\n",
        "    - [ ] Encoding Categorical Features\n",
        "- [ ] Training Model\n",
        "- [ ] Validation\n",
        "- [ ] Hypertuning\n",
        "- [ ] Evaluation\n",
        "- [ ] Conclusion\n"
      ],
      "metadata": {
        "id": "hq0y2YkUAVwE"
      }
    },
    {
      "cell_type": "code",
      "execution_count": null,
      "metadata": {
        "id": "LgYJHXhh_djE"
      },
      "outputs": [],
      "source": [
        ""
      ]
    }
  ]
}